{
 "cells": [
  {
   "cell_type": "markdown",
   "metadata": {},
   "source": [
    "# 과제1"
   ]
  },
  {
   "cell_type": "code",
   "execution_count": 95,
   "metadata": {},
   "outputs": [
    {
     "name": "stdout",
     "output_type": "stream",
     "text": [
      "13 는 소수입니다.\n",
      "15 는 소수가 아닙니다.\n"
     ]
    }
   ],
   "source": [
    "def check_prime(num):\n",
    "    if num==1:\n",
    "        return True\n",
    "    else:\n",
    "        count=0\n",
    "        for i in range(1,num+1):            \n",
    "            aa=num%i\n",
    "            if aa==0:\n",
    "                count+=1\n",
    "        if count==2:\n",
    "            return True\n",
    "        else:\n",
    "            return False\n",
    "    \n",
    "def main():\n",
    "    a = 13\n",
    "    b = 15\n",
    "    if check_prime(a):\n",
    "        print(a,'는 소수입니다.')\n",
    "    else:\n",
    "        print(a,'는 소수가 아닙니다.')\n",
    "        \n",
    "    if check_prime(b):\n",
    "        print(b,'는 소수입니다.')\n",
    "    else:\n",
    "        print(b,'는 소수가 아닙니다.')\n",
    "if __name__=='__main__':\n",
    "    main()"
   ]
  },
  {
   "cell_type": "markdown",
   "metadata": {},
   "source": [
    "# 과제2"
   ]
  },
  {
   "cell_type": "code",
   "execution_count": 101,
   "metadata": {},
   "outputs": [
    {
     "name": "stdout",
     "output_type": "stream",
     "text": [
      "1,234\n",
      "12,345,678\n",
      "12\n"
     ]
    }
   ],
   "source": [
    "def add_comma(val):\n",
    "    str_val=str(val)\n",
    "    list_val=[]\n",
    "    list2_val=[]\n",
    "    for i in str_val:\n",
    "        list_val.append(i)\n",
    "    count=0\n",
    "    for l in list_val:\n",
    "        count+=1\n",
    "        if (len(list_val)-count)%3==0 and len(list_val)!=count:\n",
    "            l+=\",\"\n",
    "        list2_val+=l\n",
    "    str2_val=''.join(list2_val)\n",
    "    return str2_val\n",
    "def main():\n",
    "    comma_added_1234 = add_comma(1234)\n",
    "    comma_added_12345678 = add_comma(12345678)\n",
    "    comma_added_12 = add_comma(12)\n",
    "    print(comma_added_1234) # ‘1,234’\n",
    "    print(comma_added_12345678) # ‘12,345,678’\n",
    "    print(comma_added_12) \n",
    "if __name__==\"__main__\":\n",
    "    main()"
   ]
  },
  {
   "cell_type": "markdown",
   "metadata": {},
   "source": [
    "# 과제3"
   ]
  },
  {
   "cell_type": "code",
   "execution_count": 233,
   "metadata": {},
   "outputs": [
    {
     "name": "stdout",
     "output_type": "stream",
     "text": [
      "['There', 'was', 'a', 'farmer', 'who', 'had', 'a', 'dog', '.']\n",
      "['There was', 'was a', 'a farmer', 'farmer who', 'who had', 'had a', 'a dog', 'dog .']\n"
     ]
    }
   ],
   "source": [
    "def tokenize(trg, N=1):\n",
    "    list_trg=trg.split()\n",
    "    count=0\n",
    "    m=[]\n",
    "    m2=[]\n",
    "    m3=[]\n",
    "    m4=[]\n",
    "    for i in range(len(list_trg)-N+1):\n",
    "        count+=1\n",
    "        for j in range(count-1,count+N-1):\n",
    "            m.append(list_trg[j])    \n",
    "            m2=m[(count-1)*N:(count-1)*N+N]\n",
    "            m3.append(m2)\n",
    "    for t in range(len(list_trg)-N+1):\n",
    "        h=' '.join(m3[N*(t+1)-1])\n",
    "        m4.append(h)\n",
    "    return m4\n",
    "\n",
    "def main():\n",
    "    a='There was a farmer who had a dog .'\n",
    "    print(tokenize(a))\n",
    "    print(tokenize(a, 2))\n",
    "    \n",
    "if __name__==\"__main__\":\n",
    "    main()"
   ]
  },
  {
   "cell_type": "markdown",
   "metadata": {},
   "source": [
    "# 과제4"
   ]
  },
  {
   "cell_type": "code",
   "execution_count": 329,
   "metadata": {},
   "outputs": [
    {
     "name": "stdout",
     "output_type": "stream",
     "text": [
      "평균:  [0.5, 0.5] 분산:  [0.16666666666666669, 0.16666666666666669]\n"
     ]
    }
   ],
   "source": [
    "def mean_and_var(*val):\n",
    "    mean=[]\n",
    "    var=[]\n",
    "    sum1=[]\n",
    "    squ_sum=[]\n",
    "    for i in range(len(v1)):\n",
    "        aa=0\n",
    "        bb=0\n",
    "        for j in range(len(val)):\n",
    "            aa+=val[j][i]\n",
    "            bb+=val[j][i]**2\n",
    "        sum1.append(aa)\n",
    "        squ_sum.append(bb)\n",
    "    for k in range(len(v1)):\n",
    "        mean.append(sum1[k]/len(val))\n",
    "        var.append(squ_sum[k]/len(val)-(mean[k]**2))\n",
    "    return mean,var\n",
    "\n",
    "def main():\n",
    "    v1=(0, 1)\n",
    "    v2=(0.5, 0.5)\n",
    "    v3=(1, 0)\n",
    "\n",
    "    m, var = mean_and_var(v1, v2, v3)\n",
    "    print('평균: ', m, '분산: ', var)\n",
    "\n",
    "if __name__==\"__main__\":\n",
    "    main()\n",
    "\n",
    "\n"
   ]
  },
  {
   "cell_type": "code",
   "execution_count": 322,
   "metadata": {},
   "outputs": [
    {
     "name": "stdout",
     "output_type": "stream",
     "text": [
      "3\n"
     ]
    }
   ],
   "source": [
    "v1=(0, 1)\n",
    "v2=(0.5, 0.5)\n",
    "v3=(1, 0)\n",
    "x=(v1,v2,v3)\n",
    "print(len(x))"
   ]
  },
  {
   "cell_type": "code",
   "execution_count": 259,
   "metadata": {},
   "outputs": [
    {
     "name": "stdout",
     "output_type": "stream",
     "text": [
      "[1.5, 1.5]\n"
     ]
    }
   ],
   "source": [
    "v1=(0, 1)\n",
    "v2=(0.5, 0.5)\n",
    "v3=(1, 0)\n",
    "mean=[]\n",
    "for i in range(len(v1)):\n",
    "    mean.append(v1[i]+v2[i]+v3[i])\n",
    "print(mean)"
   ]
  },
  {
   "cell_type": "code",
   "execution_count": null,
   "metadata": {},
   "outputs": [],
   "source": []
  },
  {
   "cell_type": "code",
   "execution_count": 41,
   "metadata": {},
   "outputs": [
    {
     "name": "stdout",
     "output_type": "stream",
     "text": [
      "12345\n",
      "<class 'int'>\n",
      "12345\n",
      "<class 'str'>\n"
     ]
    }
   ],
   "source": [
    "val=12345\n",
    "print(val)\n",
    "print(type(val))\n",
    "str_val=str(val)\n",
    "print(str_val)\n",
    "print(type(str_val))"
   ]
  },
  {
   "cell_type": "code",
   "execution_count": 86,
   "metadata": {},
   "outputs": [
    {
     "name": "stdout",
     "output_type": "stream",
     "text": [
      "<class 'str'>\n",
      "12,345\n"
     ]
    }
   ],
   "source": [
    "a=12345\n",
    "str_a=str(a)\n",
    "list_a=[]\n",
    "list_a1=[]\n",
    "for i in str_a:\n",
    "    list_a.append(i)\n",
    "count=0\n",
    "for l in list_a:\n",
    "    count+=1\n",
    "\n",
    "    if (len(list_a)-count)%3==0 and len(list_a)!=count:\n",
    "        l=l+\",\"\n",
    "    list_a1+=l\n",
    "str1_a=''.join(list_a1)\n",
    "print(str1_a)"
   ]
  },
  {
   "cell_type": "code",
   "execution_count": 181,
   "metadata": {},
   "outputs": [
    {
     "name": "stdout",
     "output_type": "stream",
     "text": [
      "None\n"
     ]
    },
    {
     "data": {
      "text/plain": [
       "\"\\ndef main():\\n    a='There was a farmer who had a dog .'\\n    print(tokenize(a))\\n    print(tokenize(a, 2))\\n\\n\\nmain()\\n\""
      ]
     },
     "execution_count": 181,
     "metadata": {},
     "output_type": "execute_result"
    }
   ],
   "source": [
    "def tokenize(trg, N=1):\n",
    "# TO BE IMPLEMENTED\n",
    "    list_trg=trg.split()\n",
    "\n",
    "def main():\n",
    "    a='There was a farmer who had a dog .'\n",
    "    print(tokenize(a))\n",
    "    print(tokenize(a, 2))\n",
    "\n"
   ]
  },
  {
   "cell_type": "code",
   "execution_count": 222,
   "metadata": {},
   "outputs": [
    {
     "name": "stdout",
     "output_type": "stream",
     "text": [
      "['1 2 3 4', '2 3 4 5']\n"
     ]
    }
   ],
   "source": [
    "l=['1','2','3','4','5']\n",
    "\n",
    "count=0\n",
    "n=4\n",
    "m=[]\n",
    "m2=[]\n",
    "m3=[]\n",
    "m4=[]\n",
    "for i in range(len(l)-n+1):\n",
    "    count+=1\n",
    "    for j in range(count-1,count+n-1):\n",
    "        m.append(l[j])    \n",
    "    m2=m[(count-1)*n:(count-1)*n+n]\n",
    "    m3.append(m2)\n",
    "for t in range(len(l)-n+1):\n",
    "    h=' '.join(m3[t])\n",
    "    m4.append(h)\n",
    "print(m4)\n",
    "        \n",
    "        \n",
    "        \n",
    "        \n",
    "        "
   ]
  },
  {
   "cell_type": "code",
   "execution_count": 197,
   "metadata": {},
   "outputs": [
    {
     "ename": "TypeError",
     "evalue": "sequence item 0: expected str instance, int found",
     "output_type": "error",
     "traceback": [
      "\u001b[0;31m---------------------------------------------------------------------------\u001b[0m",
      "\u001b[0;31mTypeError\u001b[0m                                 Traceback (most recent call last)",
      "\u001b[0;32m<ipython-input-197-6775e01de441>\u001b[0m in \u001b[0;36m<module>\u001b[0;34m\u001b[0m\n\u001b[1;32m      1\u001b[0m \u001b[0ml\u001b[0m\u001b[0;34m=\u001b[0m\u001b[0;34m[\u001b[0m\u001b[0;34m'a'\u001b[0m\u001b[0;34m,\u001b[0m\u001b[0;34m'b'\u001b[0m\u001b[0;34m,\u001b[0m\u001b[0;34m'c'\u001b[0m\u001b[0;34m,\u001b[0m\u001b[0;34m'd'\u001b[0m\u001b[0;34m,\u001b[0m\u001b[0;34m'e'\u001b[0m\u001b[0;34m]\u001b[0m\u001b[0;34m\u001b[0m\u001b[0;34m\u001b[0m\u001b[0m\n\u001b[1;32m      2\u001b[0m \u001b[0mn\u001b[0m\u001b[0;34m=\u001b[0m\u001b[0;34m[\u001b[0m\u001b[0;36m1\u001b[0m\u001b[0;34m,\u001b[0m\u001b[0;36m2\u001b[0m\u001b[0;34m,\u001b[0m\u001b[0;36m3\u001b[0m\u001b[0;34m,\u001b[0m\u001b[0;36m4\u001b[0m\u001b[0;34m,\u001b[0m\u001b[0;36m5\u001b[0m\u001b[0;34m]\u001b[0m\u001b[0;34m\u001b[0m\u001b[0;34m\u001b[0m\u001b[0m\n\u001b[0;32m----> 3\u001b[0;31m \u001b[0mm\u001b[0m\u001b[0;34m=\u001b[0m\u001b[0;34m''\u001b[0m\u001b[0;34m.\u001b[0m\u001b[0mjoin\u001b[0m\u001b[0;34m(\u001b[0m\u001b[0mn\u001b[0m\u001b[0;34m[\u001b[0m\u001b[0;36m1\u001b[0m\u001b[0;34m:\u001b[0m\u001b[0;36m3\u001b[0m\u001b[0;34m]\u001b[0m\u001b[0;34m)\u001b[0m\u001b[0;34m\u001b[0m\u001b[0;34m\u001b[0m\u001b[0m\n\u001b[0m\u001b[1;32m      4\u001b[0m \u001b[0mprint\u001b[0m\u001b[0;34m(\u001b[0m\u001b[0mm\u001b[0m\u001b[0;34m)\u001b[0m\u001b[0;34m\u001b[0m\u001b[0;34m\u001b[0m\u001b[0m\n",
      "\u001b[0;31mTypeError\u001b[0m: sequence item 0: expected str instance, int found"
     ]
    }
   ],
   "source": [
    "l=['a','b','c','d','e']\n",
    "n=[1,2,3,4,5]\n",
    "m=''.join(n[1:3])\n",
    "print(m)"
   ]
  },
  {
   "cell_type": "code",
   "execution_count": 198,
   "metadata": {},
   "outputs": [
    {
     "name": "stdout",
     "output_type": "stream",
     "text": [
      "[2, 3]\n"
     ]
    }
   ],
   "source": [
    "l=['a','b','c','d','e']\n",
    "n=[1,2,3,4,5]\n",
    "m=[]\n",
    "m=n[1:3]\n",
    "print(m)"
   ]
  },
  {
   "cell_type": "code",
   "execution_count": 240,
   "metadata": {},
   "outputs": [
    {
     "name": "stdout",
     "output_type": "stream",
     "text": [
      "cd\n"
     ]
    }
   ],
   "source": [
    "l=['a','b','c','d','r']\n",
    "atwe=''\n",
    "for i in range(2,4):\n",
    "    atwe+=l[i]\n",
    "print(atwe)"
   ]
  },
  {
   "cell_type": "code",
   "execution_count": 298,
   "metadata": {},
   "outputs": [
    {
     "ename": "IndexError",
     "evalue": "list index out of range",
     "output_type": "error",
     "traceback": [
      "\u001b[0;31m---------------------------------------------------------------------------\u001b[0m",
      "\u001b[0;31mIndexError\u001b[0m                                Traceback (most recent call last)",
      "\u001b[0;32m<ipython-input-298-9b55f0b290ec>\u001b[0m in \u001b[0;36m<module>\u001b[0;34m\u001b[0m\n\u001b[1;32m     18\u001b[0m     \u001b[0msqu_sum\u001b[0m\u001b[0;34m.\u001b[0m\u001b[0mappend\u001b[0m\u001b[0;34m(\u001b[0m\u001b[0mbb\u001b[0m\u001b[0;34m)\u001b[0m\u001b[0;34m\u001b[0m\u001b[0;34m\u001b[0m\u001b[0m\n\u001b[1;32m     19\u001b[0m     \u001b[0;32mfor\u001b[0m \u001b[0mk\u001b[0m \u001b[0;32min\u001b[0m \u001b[0mrange\u001b[0m\u001b[0;34m(\u001b[0m\u001b[0mlen\u001b[0m\u001b[0;34m(\u001b[0m\u001b[0mv1\u001b[0m\u001b[0;34m)\u001b[0m\u001b[0;34m)\u001b[0m\u001b[0;34m:\u001b[0m\u001b[0;34m\u001b[0m\u001b[0;34m\u001b[0m\u001b[0m\n\u001b[0;32m---> 20\u001b[0;31m         \u001b[0mmean\u001b[0m\u001b[0;34m.\u001b[0m\u001b[0mappend\u001b[0m\u001b[0;34m(\u001b[0m\u001b[0msum1\u001b[0m\u001b[0;34m[\u001b[0m\u001b[0mk\u001b[0m\u001b[0;34m]\u001b[0m\u001b[0;34m/\u001b[0m\u001b[0mlen\u001b[0m\u001b[0;34m(\u001b[0m\u001b[0mval\u001b[0m\u001b[0;34m)\u001b[0m\u001b[0;34m)\u001b[0m\u001b[0;34m\u001b[0m\u001b[0;34m\u001b[0m\u001b[0m\n\u001b[0m\u001b[1;32m     21\u001b[0m         \u001b[0mvar\u001b[0m\u001b[0;34m.\u001b[0m\u001b[0mappend\u001b[0m\u001b[0;34m(\u001b[0m\u001b[0msqu_sum\u001b[0m\u001b[0;34m[\u001b[0m\u001b[0mk\u001b[0m\u001b[0;34m]\u001b[0m\u001b[0;34m-\u001b[0m\u001b[0;34m(\u001b[0m\u001b[0mmean\u001b[0m\u001b[0;34m[\u001b[0m\u001b[0mk\u001b[0m\u001b[0;34m]\u001b[0m\u001b[0;34m**\u001b[0m\u001b[0;36m2\u001b[0m\u001b[0;34m)\u001b[0m\u001b[0;34m)\u001b[0m\u001b[0;34m\u001b[0m\u001b[0;34m\u001b[0m\u001b[0m\n\u001b[1;32m     22\u001b[0m \u001b[0mprint\u001b[0m\u001b[0;34m(\u001b[0m\u001b[0mmean\u001b[0m\u001b[0;34m)\u001b[0m\u001b[0;34m\u001b[0m\u001b[0;34m\u001b[0m\u001b[0m\n",
      "\u001b[0;31mIndexError\u001b[0m: list index out of range"
     ]
    }
   ],
   "source": [
    "val=[v1,v2,v3]\n",
    "v1=(0, 1)\n",
    "v2=(0.5, 0.5)\n",
    "v3=(1, 0)\n",
    "mean=[]\n",
    "var=[]\n",
    "sum1=[]\n",
    "squ_mean=[]\n",
    "squ_sum=[]\n",
    "\n",
    "for i in range(len(v1)):\n",
    "    aa=0\n",
    "    bb=0\n",
    "    for j in range(len(val)):\n",
    "        aa+=val[j][i]\n",
    "        bb+=val[j][i]**2\n",
    "    sum1.append(aa)\n",
    "    squ_sum.append(bb)\n",
    "    for k in range(len(v1)):\n",
    "        mean.append(sum1[k]/len(val))\n",
    "        var.append(squ_sum[k]-(mean[k]**2))    \n",
    "print(mean)\n",
    "print(squ_sum)\n",
    "    "
   ]
  },
  {
   "cell_type": "code",
   "execution_count": null,
   "metadata": {},
   "outputs": [],
   "source": []
  },
  {
   "cell_type": "code",
   "execution_count": null,
   "metadata": {},
   "outputs": [],
   "source": []
  }
 ],
 "metadata": {
  "kernelspec": {
   "display_name": "Python 3",
   "language": "python",
   "name": "python3"
  },
  "language_info": {
   "codemirror_mode": {
    "name": "ipython",
    "version": 3
   },
   "file_extension": ".py",
   "mimetype": "text/x-python",
   "name": "python",
   "nbconvert_exporter": "python",
   "pygments_lexer": "ipython3",
   "version": "3.7.4"
  }
 },
 "nbformat": 4,
 "nbformat_minor": 2
}
