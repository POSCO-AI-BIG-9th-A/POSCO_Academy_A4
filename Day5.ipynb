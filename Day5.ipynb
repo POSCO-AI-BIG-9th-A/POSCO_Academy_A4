{
 "cells": [
  {
   "cell_type": "code",
   "execution_count": 2,
   "metadata": {},
   "outputs": [
    {
     "data": {
      "text/html": [
       "<style>.container{width:100%!important;}</style>"
      ],
      "text/plain": [
       "<IPython.core.display.HTML object>"
      ]
     },
     "metadata": {},
     "output_type": "display_data"
    }
   ],
   "source": [
    "from IPython.core.display import display,HTML\n",
    "display(HTML(\"<style>.container{width:100%!important;}</style>\"))"
   ]
  },
  {
   "cell_type": "markdown",
   "metadata": {},
   "source": [
    "## numpy"
   ]
  },
  {
   "cell_type": "code",
   "execution_count": 1,
   "metadata": {},
   "outputs": [],
   "source": [
    "import numpy as np"
   ]
  },
  {
   "cell_type": "code",
   "execution_count": null,
   "metadata": {},
   "outputs": [],
   "source": [
    "a = np.array([1,2,3],[4,5,6]) #array 생성\n",
    "a.shape #행, 열의 수 반환 : len 대신 사용 가능\n",
    "a.reshape(y,x) #(x,y)의 shape을 (y,x)로 변경\n",
    "a[:, None] #출력:(x, 1)  : None은 어느 자리든 사용 가능\n",
    "a[0,0] # a[0][0]과 동일"
   ]
  },
  {
   "cell_type": "code",
   "execution_count": null,
   "metadata": {},
   "outputs": [],
   "source": [
    "np.zeros((2,2)) #모든 값이 0인 2x2 array 생성\n",
    "np.ones((1,2)) #모든 값이 1인 1x2 array 생성\n",
    "np.full((2,2), 7) #모든 값이 7인 2x2 array 생성\n",
    "np.eye(2) #2x2 단위행렬 생성\n",
    "np.random.random((2,2)) #0~1 랜덤 값을 가지는 2x2 array 생성"
   ]
  },
  {
   "cell_type": "code",
   "execution_count": null,
   "metadata": {},
   "outputs": [],
   "source": [
    "#a = np.array([[1,2,3,4],[5,6,7,8],[9,10,11,12]])\n",
    "a[:2, 1:3] #1번째 인자는 행의 슬라이싱, 2번째 인자는 열의 슬라이싱\n",
    "a[1, :] #1차원 행렬 (4,) : 인덱스로 작용\n",
    "a[1:2, :] #2차원 행렬 (1x4) : 행과 열의 슬라이싱을 의미"
   ]
  },
  {
   "cell_type": "code",
   "execution_count": null,
   "metadata": {},
   "outputs": [],
   "source": [
    "#a = np.array([[1, 2], [3, 4], [5, 6]])\n",
    "a[[0,1,2],[0,1,0]] #0,0 / 1,1 / 2,0 을 의미하며 원소를 가져옴"
   ]
  },
  {
   "cell_type": "code",
   "execution_count": null,
   "metadata": {},
   "outputs": [],
   "source": [
    "#b = np.array([0,2,0,1])\n",
    "a[np.arange(4), b] #a[np.array(range(4)), b]와 동일"
   ]
  },
  {
   "cell_type": "code",
   "execution_count": null,
   "metadata": {},
   "outputs": [],
   "source": [
    "a.dtype #원소의 타입을 반환 (int64 or float64)\n",
    "x = np.array([1,2], dtype=np.int64) #데이터 타입 명시"
   ]
  },
  {
   "cell_type": "code",
   "execution_count": null,
   "metadata": {},
   "outputs": [],
   "source": [
    "#x = np.array([[1, 2], [3, 4]], dtype=np.float64)\n",
    "#y = np.array([[5, 6], [7, 8]], dtype=np.float64)\n",
    "np.add(x,y) # == x+y\n",
    "np.subtract(x,y) # == x-y\n",
    "np.multiply(x,y) # == x*y\n",
    "np.divide(x,y) # == x/y\n",
    "np.sqrt(x) # == root(x)\n",
    "\n",
    "x.dot(y) # == np.dot(x,y)\n",
    "\n",
    "np.sum(x) #모든 원소의 합\n",
    "np.sum(x, axis=0) #각 열의 합\n",
    "np.sum(x, axis=1) #각 행의 합\n",
    "\n",
    "x.T #전치행렬 반환"
   ]
  },
  {
   "cell_type": "code",
   "execution_count": null,
   "metadata": {},
   "outputs": [],
   "source": [
    "x = np.array([[1,2,3], [4,5,6], [7,8,9], [10,11,12]])\n",
    "v = np.array([1,0,1])\n",
    "y = np.empty_like(x) #x와 같은 shape의 빈 매트릭스 만들기\n",
    "vv = np.tile(v, (4, 1)) #v 내용을 4x1의 각 행에 반복함\n",
    "y = x + v #브로드캐스팅을 사용하여 x의 각 행에 v값을 더함\n",
    "\n",
    "numpy.linalg.inv #역행렬 계산 함수\n",
    "numpy.matlib.repmat #확장 함수\n",
    "numpy.linalg.norm #Euclidean Distance 계산 함수\n",
    "numpy.conv #Covariance Matrix 계산 함수"
   ]
  },
  {
   "cell_type": "markdown",
   "metadata": {},
   "source": [
    "## 연습문제 2"
   ]
  },
  {
   "cell_type": "code",
   "execution_count": 17,
   "metadata": {},
   "outputs": [
    {
     "name": "stdout",
     "output_type": "stream",
     "text": [
      "enter matrix [0, 0]: 1\n",
      "enter matrix [0, 1]: 1\n",
      "enter matrix [1, 0]: 2\n",
      "enter matrix [1, 1]: 1\n",
      "enter x [0, 0]: 15\n",
      "enter x [1, 0]: 25\n",
      "(x,y): \n",
      " [[10.]\n",
      " [ 5.]]\n"
     ]
    }
   ],
   "source": [
    "mat = np.eye(2, dtype=np.int64)\n",
    "res = np.full((2,1), 0, dtype=np.int64)\n",
    "\n",
    "for i in range(2):\n",
    "    for j in range(2):\n",
    "        mat[i, j] = int(input('enter matrix [%d, %d]: ' % (i, j)))\n",
    "        \n",
    "for i in range(2):\n",
    "    x = int(input('enter x [%d, 0]: ' % i))\n",
    "    res[i, 0] = x\n",
    "\n",
    "x = np.dot(np.linalg.inv(mat), res)\n",
    "\n",
    "print('(x,y): \\n', x)"
   ]
  }
 ],
 "metadata": {
  "kernelspec": {
   "display_name": "Python 3",
   "language": "python",
   "name": "python3"
  },
  "language_info": {
   "codemirror_mode": {
    "name": "ipython",
    "version": 3
   },
   "file_extension": ".py",
   "mimetype": "text/x-python",
   "name": "python",
   "nbconvert_exporter": "python",
   "pygments_lexer": "ipython3",
   "version": "3.7.4"
  }
 },
 "nbformat": 4,
 "nbformat_minor": 2
}
